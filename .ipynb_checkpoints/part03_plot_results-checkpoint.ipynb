{
 "cells": [
  {
   "cell_type": "code",
   "execution_count": null,
   "metadata": {},
   "outputs": [],
   "source": [
    "import matplotlib.pyplot as plt\n",
    "from scipy import io\n",
    "\n",
    "fobs = '../../offline_data/buoy_bulkwave_met_obs_qc.mat'\n",
    "obs = io.loadmat(fobs)\n",
    "buoy_ids = [x[0][0] for x in obs['id']] # Make simple list of ids"
   ]
  },
  {
   "cell_type": "code",
   "execution_count": null,
   "metadata": {},
   "outputs": [],
   "source": []
  },
  {
   "cell_type": "code",
   "execution_count": null,
   "metadata": {},
   "outputs": [],
   "source": [
    "# Absolute RMSE Error\n",
    "f, axs = plt.subplots(1,2,figsize=(14,5))\n",
    "\n",
    "def make_plot(ax,var,title):\n",
    "    plt.sca(ax)\n",
    "    plt.imshow(var)\n",
    "    cbar = plt.colorbar()\n",
    "    cbar.set_label('RMSE [m/s]')\n",
    "    plt.xlabel('Forecast Hour')\n",
    "    plt.ylabel('Buoy')\n",
    "    plt.gca().set_yticks(do_buoys)\n",
    "    plt.gca().set_yticklabels(buoy_ids)\n",
    "    plt.gca().set_xticks(do_hours)\n",
    "    plt.set_cmap('viridis_r')\n",
    "    plt.clim([1.2, 2.5])    \n",
    "    plt.title(title)\n",
    "\n",
    "make_plot(axs[0],lr_rmse_te,'Linear Reg')\n",
    "make_plot(axs[1],mr_rmse_te,'MLP Reg')\n",
    "    \n",
    "#plt.sca(axs[0])\n"
   ]
  },
  {
   "cell_type": "code",
   "execution_count": null,
   "metadata": {},
   "outputs": [],
   "source": [
    "# Relative RMSE error improvement from Weather model\n",
    "f, axs = plt.subplots(1,2,figsize=(14,5))\n",
    "\n",
    "def make_rel_plot(ax,var,title):\n",
    "    plt.sca(ax)\n",
    "    plt.imshow(var)\n",
    "    cbar = plt.colorbar()\n",
    "    cbar.set_label('$\\Delta$ RMSE [%]')\n",
    "    plt.xlabel('Forecast Hour')\n",
    "    plt.ylabel('Buoy')\n",
    "    plt.gca().set_yticks(do_buoys)\n",
    "    plt.gca().set_yticklabels(buoy_ids)\n",
    "    plt.gca().set_xticks(do_hours)\n",
    "    plt.set_cmap('bwr')\n",
    "    plt.clim([-50, 50])    \n",
    "    plt.title(title)\n",
    "\n",
    "rel_improvement = 100*(lr_rmse_te-np.expand_dims(ref_rmse_te,axis=1))/np.expand_dims(ref_rmse_te,axis=1)\n",
    "make_rel_plot(axs[0],rel_improvement,'Linear Reg')\n",
    "\n",
    "rel_improvement = 100*(mr_rmse_te-np.expand_dims(ref_rmse_te,axis=1))/np.expand_dims(ref_rmse_te,axis=1)\n",
    "make_rel_plot(axs[1],rel_improvement,'MLP Reg')"
   ]
  },
  {
   "cell_type": "code",
   "execution_count": null,
   "metadata": {},
   "outputs": [],
   "source": [
    "# Compare Linear and MLP regression RMSE\n",
    "\n",
    "plt.imshow(100*(mr_rmse_te-lr_rmse_te)/lr_rmse_te)\n",
    "cbar = plt.colorbar()\n",
    "cbar.set_label('$\\Delta$ RMSE [%]')\n",
    "plt.xlabel('Forecast Hour')\n",
    "plt.ylabel('Buoy')\n",
    "plt.gca().set_yticks(do_buoys)\n",
    "plt.gca().set_yticklabels(buoy_ids)\n",
    "plt.gca().set_xticks(do_hours)\n",
    "plt.set_cmap('coolwarm')\n",
    "plt.clim([-7.5, 7.5])    \n",
    "plt.title('(MLP - Linear) / Linear')\n"
   ]
  }
 ],
 "metadata": {
  "kernelspec": {
   "display_name": "Python 3",
   "language": "python",
   "name": "python3"
  },
  "language_info": {
   "codemirror_mode": {
    "name": "ipython",
    "version": 3
   },
   "file_extension": ".py",
   "mimetype": "text/x-python",
   "name": "python",
   "nbconvert_exporter": "python",
   "pygments_lexer": "ipython3",
   "version": "3.8.3"
  }
 },
 "nbformat": 4,
 "nbformat_minor": 4
}
