{
 "cells": [
  {
   "cell_type": "markdown",
   "metadata": {},
   "source": [
    "### Predicting future wind speed with prior observations\n",
    "- Using a linear regression, \n",
    "### Results\n",
    "- For reference numerical model skill is MAE ~1.5-1.7 m/s\n",
    "- Predicting 1-hour in advance, MAE ~ 0.9 m/s, Linear regression and Random Forest similar skill\n",
    "- Predicting 6-hour in advance, MAE ~ 2.2 m/s, similar between models"
   ]
  },
  {
   "cell_type": "code",
   "execution_count": 1,
   "metadata": {},
   "outputs": [
    {
     "ename": "ImportError",
     "evalue": "cannot import name 'BaseEstimator' from 'sklearn' (C:\\ProgramData\\Anaconda3\\lib\\site-packages\\sklearn\\__init__.py)",
     "output_type": "error",
     "traceback": [
      "\u001b[1;31m---------------------------------------------------------------------------\u001b[0m",
      "\u001b[1;31mImportError\u001b[0m                               Traceback (most recent call last)",
      "\u001b[1;32m<ipython-input-1-a1a47ac5c991>\u001b[0m in \u001b[0;36m<module>\u001b[1;34m\u001b[0m\n\u001b[0;32m     11\u001b[0m \u001b[1;32mfrom\u001b[0m \u001b[0msklearn\u001b[0m\u001b[1;33m.\u001b[0m\u001b[0mmetrics\u001b[0m \u001b[1;32mimport\u001b[0m \u001b[0mr2_score\u001b[0m\u001b[1;33m\u001b[0m\u001b[1;33m\u001b[0m\u001b[0m\n\u001b[0;32m     12\u001b[0m \u001b[1;32mfrom\u001b[0m \u001b[0msklearn\u001b[0m\u001b[1;33m.\u001b[0m\u001b[0mmodel_selection\u001b[0m \u001b[1;32mimport\u001b[0m \u001b[0mtrain_test_split\u001b[0m\u001b[1;33m\u001b[0m\u001b[1;33m\u001b[0m\u001b[0m\n\u001b[1;32m---> 13\u001b[1;33m \u001b[1;32mfrom\u001b[0m \u001b[0msklearn\u001b[0m \u001b[1;32mimport\u001b[0m \u001b[0mBaseEstimator\u001b[0m\u001b[1;33m,\u001b[0m \u001b[0mTransformerMixin\u001b[0m\u001b[1;33m\u001b[0m\u001b[1;33m\u001b[0m\u001b[0m\n\u001b[0m",
      "\u001b[1;31mImportError\u001b[0m: cannot import name 'BaseEstimator' from 'sklearn' (C:\\ProgramData\\Anaconda3\\lib\\site-packages\\sklearn\\__init__.py)"
     ]
    }
   ],
   "source": [
    "# Needed packages\n",
    "import pandas as pd\n",
    "import numpy as np\n",
    "import matplotlib.pyplot as plt\n",
    "import matplotlib.cm as cm\n",
    "from datetime import datetime,timedelta\n",
    "from scipy import io,signal\n",
    "import time\n",
    "\n",
    "from sklearn.linear_model import LinearRegression\n",
    "from sklearn.metrics import r2_score\n",
    "from sklearn.model_selection import train_test_split\n",
    "from sklearn import BaseEstimator, TransformerMixin"
   ]
  },
  {
   "cell_type": "code",
   "execution_count": 8,
   "metadata": {},
   "outputs": [],
   "source": [
    "# Set paths to data\n",
    "fobs = '../../offline_data/buoy_bulkwave_met_obs_qc.mat'\n",
    "fpred = '../../offline_data/cfsr_buoy_met_pred.mat'"
   ]
  },
  {
   "cell_type": "code",
   "execution_count": 1,
   "metadata": {},
   "outputs": [
    {
     "ename": "IndentationError",
     "evalue": "expected an indented block (<ipython-input-1-18f117689512>, line 12)",
     "output_type": "error",
     "traceback": [
      "\u001b[1;36m  File \u001b[1;32m\"<ipython-input-1-18f117689512>\"\u001b[1;36m, line \u001b[1;32m12\u001b[0m\n\u001b[1;33m    def matlab2datetime(matlab_datenum):\u001b[0m\n\u001b[1;37m                                        ^\u001b[0m\n\u001b[1;31mIndentationError\u001b[0m\u001b[1;31m:\u001b[0m expected an indented block\n"
     ]
    }
   ],
   "source": [
    "from sklearn import BaseEstimator, TransformerMixin\n",
    "\n",
    "class CreateHistoryLabels(BaseEstimator, TransformerMixin):\n",
    "    def __init__(self,hr_back=6):\n",
    "        self.hr_back = hr_back\n",
    "    def fit(self, X, y=None):\n",
    "        return self\n",
    "    def transform(self, X):\n",
    "        \n",
    "        \n",
    "\n",
    "# Collection of data-prepping functions\n",
    "def matlab2datetime(matlab_datenum):\n",
    "    day = datetime.fromordinal(int(matlab_datenum))\n",
    "    dayfrac = timedelta(days=matlab_datenum%1) - timedelta(days = 366)\n",
    "    return day + dayfrac\n",
    "\n",
    "def load_data(fobs,fpred):\n",
    "    # load matfiles\n",
    "    obs = io.loadmat(fobs)\n",
    "    pred = io.loadmat(fpred)\n",
    "    \n",
    "    # Estimate u,v for pred\n",
    "    pred['u'] = pred['wndspd']*np.cos((90-pred['wnddir']+180)*np.pi/180.0)\n",
    "    pred['v'] = pred['wndspd']*np.sin((90-pred['wnddir']+180)*np.pi/180.0)\n",
    "    \n",
    "    # Make datetime axes for each from datenum\n",
    "    pred['t'] = [matlab2datetime(tt[0]) for tt in pred['time']] \n",
    "    obs['t'] = [matlab2datetime(tt[0]) for tt in obs['time']] \n",
    "    \n",
    "    return (obs,pred)\n",
    "\n",
    "def create_history_matrix(t,x,y,hr_back,hr_forward):\n",
    "\n",
    "    # Generate prior wind speeds, up to X hours back in time using np.roll() like circshift in matlab\n",
    "    trim = np.max([hr_back,hr_forward])\n",
    "\n",
    "    # Time length\n",
    "    Nt = len(t)\n",
    "\n",
    "    # Make empty frames for history data\n",
    "    X = np.zeros((Nt,hr_back))\n",
    "\n",
    "    # Fill in with prior hours of data\n",
    "    for ii in range(hr_back):    \n",
    "        X[:,ii] = np.roll(x,ii)        \n",
    "\n",
    "    # Create numerical weather prediction at forward hour\n",
    "    p = np.roll(y,-hr_forward)\n",
    "\n",
    "    # Create observed rolled forward for validation\n",
    "    v = np.roll(x,-hr_forward)\n",
    "\n",
    "    # Trim by setting nan\n",
    "    X[:trim,:] = np.nan\n",
    "    X[-trim:,:] = np.nan\n",
    "    x[:trim] = np.nan\n",
    "    x[-trim:] = np.nan\n",
    "    p[:trim] = np.nan\n",
    "    p[-trim:] = np.nan\n",
    "    v[:trim] = np.nan\n",
    "    v[-trim:] = np.nan\n",
    "    t[:trim] = np.nan\n",
    "    t[-trim:] = np.nan\n",
    "\n",
    "    # Remove time-steps with NaN (including many observation times)\n",
    "    msk1 = np.isnan(X)\n",
    "    msk1 = msk1.any(axis=1)\n",
    "    msk2 = np.isnan(y)\n",
    "    msk3 = np.isnan(v)\n",
    "    msk4 = np.isnan(p)\n",
    "    msk = msk1 | msk2 | msk3 | msk4\n",
    "\n",
    "    X = X[~msk,:]\n",
    "    x = x[~msk]\n",
    "    p = p[~msk]\n",
    "    v = v[~msk]\n",
    "    t = t[~msk]\n",
    "    \n",
    "    return (X, x, v, p, t, msk)\n",
    "\n",
    "#----- Make yearly mean variable -----#\n",
    "def make_yr_avg(time,x):    \n",
    "    # Calc day of year\n",
    "    doy = np.array([i.timetuple().tm_yday for i in time])-1\n",
    "\n",
    "    # Calc avg for each day (include leap year)\n",
    "    xa = np.zeros(366)\n",
    "    for dd in range(366):\n",
    "        msk = (doy == dd)\n",
    "        xa[dd] = np.nanmean(x[msk])\n",
    "\n",
    "    # Smooth this daily average wind vector\n",
    "    # In future should wrap this before smoothing and then unwrap\n",
    "\n",
    "    from scipy import signal\n",
    "    xas = signal.savgol_filter(xa, 25*3, 2)\n",
    "\n",
    "    plot_on = 0\n",
    "    if plot_on == 1:\n",
    "        fig, ax1 = plt.subplots(1,2,figsize=(10,5))\n",
    "        ax1.plot(uavg,label='Daily Avg')\n",
    "        ax1.plot(uavgs,label='Smoothed')\n",
    "        plt.ylabel('U [m/s]')\n",
    "        ax1.legend()\n",
    "        plt.xlabel('Day of Year')\n",
    "\n",
    "    # Append avg to time series\n",
    "    xa = xas[doy]\n",
    "    \n",
    "    return xa\n",
    "\n",
    "def test_regression(HU,fu_o):\n",
    "    # Train/test\n",
    "    x_tr, x_te, y_tr, y_te = train_test_split(HU, fu_o, test_size = 0.25, random_state = 42)\n",
    "    \n",
    "    # Creating an object of LinearRegression class\n",
    "    LR = LinearRegression()\n",
    "    \n",
    "    # fitting the training data\n",
    "    LR.fit(x_tr,y_tr)\n",
    "    \n",
    "    # Make predictions\n",
    "    y_p = np.squeeze(LR.predict(x_te))\n",
    "    y = np.squeeze(y_te)\n",
    "\n",
    "    # Evaluate error\n",
    "    r2 = r2_score(y.T,y_p)\n",
    "    mae = np.mean(np.abs(y.T-y_p))\n",
    "    \n",
    "    # Pass error back\n",
    "    return (r2,mae)\n"
   ]
  },
  {
   "cell_type": "code",
   "execution_count": 10,
   "metadata": {},
   "outputs": [],
   "source": [
    "# Load up data\n",
    "(obs,pred) = load_data(fobs,fpred)"
   ]
  },
  {
   "cell_type": "code",
   "execution_count": null,
   "metadata": {},
   "outputs": [],
   "source": [
    "# Test a linear regression for varying forecast hour and varying buoy loc\n",
    "# This takes 231.96 seconds\n",
    "\n",
    "# Select how many hours to go back in time\n",
    "hr_back = 6\n",
    "\n",
    "# Select with variable to predict\n",
    "myvar = 'u' \n",
    "\n",
    "Nb = 21\n",
    "Nf = 24\n",
    "loc = np.arange(Nb)\n",
    "hr_forward = np.arange(1,Nf+1)\n",
    "r2 = np.zeros((Nb,Nf))\n",
    "mae = np.zeros((Nb,Nf))\n",
    "mae_nm = np.zeros((Nb,Nf))\n",
    "bias_nm = np.zeros((Nb,Nf))\n",
    "mae_br_nm = np.zeros((Nb,Nf))\n",
    "buoy = []\n",
    "\n",
    "# Loop over locations\n",
    "start = time.time()\n",
    "for b in range(Nb):\n",
    "    \n",
    "    for f in range(Nf):\n",
    "\n",
    "        # Interp onto pred axis\n",
    "        t1 = np.squeeze(pred['time'])\n",
    "        x1 = np.squeeze(pred[myvar][:,b])\n",
    "        t2 = np.squeeze(obs['time'])\n",
    "        x2 = np.squeeze(obs[myvar][b,:])\n",
    "        x2 = np.interp(t1,t2,x2)\n",
    "\n",
    "        # Rename\n",
    "        t = t1\n",
    "        x = x1\n",
    "        y = x2\n",
    "\n",
    "        # Generate history matrix and trimmed/cleaned vectors\n",
    "        (X, x, v, p, t, msk) = create_history_matrix(t,x,y,hr_back,hr_forward[f])\n",
    "        v = np.expand_dims(v,axis=1)\n",
    "        p = np.expand_dims(p,axis=1)\n",
    "\n",
    "        # Create yearly average\n",
    "        tax = pred['t']\n",
    "        tax = [tax[i] for i in range(len(tax)) if ~msk[i]]\n",
    "        xa = make_yr_avg(tax,x)\n",
    "        xa = np.expand_dims(xa,1) # Make 2D for concat\n",
    "\n",
    "        # Concatenate xa to X\n",
    "        X = np.concatenate((X,xa),axis=1)\n",
    "\n",
    "        # Concatenate p to X\n",
    "        X = np.concatenate((p,X),axis=1)\n",
    "        \n",
    "        # Linear regression\n",
    "        (r2[b,f],mae[b,f]) = test_regression(X,v)\n",
    "        \n",
    "        # Numerical Model prediction error \n",
    "        mae_nm[b,f] = np.mean(np.abs(p-v))\n",
    "        bias_nm[b,f] = np.mean(p-v)\n",
    "        mae_br_nm[b,f] = np.mean(np.abs(p-v-bias_nm[b,f]))\n",
    "        \n",
    "\n",
    "end = time.time()\n",
    "print('Finished in {:4.2f} seconds'.format(end - start))\n"
   ]
  },
  {
   "cell_type": "code",
   "execution_count": 69,
   "metadata": {
    "scrolled": false
   },
   "outputs": [
    {
     "data": {
      "text/plain": [
       "<matplotlib.legend.Legend at 0x18bb98a4d30>"
      ]
     },
     "execution_count": 69,
     "metadata": {},
     "output_type": "execute_result"
    },
    {
     "data": {
      "image/png": "[encoded data removed]",
      "text/plain": [
       "<Figure size 1080x360 with 3 Axes>"
      ]
     },
     "metadata": {
      "needs_background": "light"
     },
     "output_type": "display_data"
    }
   ],
   "source": [
    "cmap = cm.get_cmap('Dark2')\n",
    "\n",
    "fig, (ax1, ax2, ax3) = plt.subplots(1,3,figsize=(15,5))\n",
    "\n",
    "for b in range(7):\n",
    "    ax1.plot(hr_forward,mae[b,:],'.-',label=obs['id'][b][0][0],color=cmap((1/7)*b))\n",
    "    ax1.plot(hr_forward,mae_nm[b,:],'--',color=cmap((1/7)*b))\n",
    "ax1.set_xlabel('Forecast hour')\n",
    "ax1.set_ylabel('RMSE [m/s]')\n",
    "ax1.set_title('u')\n",
    "ax1.grid()\n",
    "ax1.legend()\n",
    "\n",
    "for b in range(7):\n",
    "    ax2.plot(hr_forward,mae[7+b,:],'.-',label=obs['id'][7+b][0][0],color=cmap((1/7)*b))\n",
    "    ax2.plot(hr_forward,mae_nm[7+b,:],'--',color=cmap((1/7)*b))\n",
    "ax2.set_xlabel('Forecast hour')\n",
    "ax2.set_ylabel('RMSE [m/s]')\n",
    "ax2.set_title('u')\n",
    "ax2.grid()\n",
    "ax2.legend()\n",
    "\n",
    "for b in range(7):\n",
    "    ax2.plot(hr_forward,mae[14+b,:],'.-',label=obs['id'][14+b][0][0],color=cmap((1/7)*b))\n",
    "    ax2.plot(hr_forward,mae_nm[14+b,:],'--',color=cmap((1/7)*b))\n",
    "ax2.set_xlabel('Forecast hour')\n",
    "ax2.set_ylabel('RMSE [m/s]')\n",
    "ax2.set_title('u')\n",
    "ax2.grid()\n",
    "ax2.legend()"
   ]
  },
  {
   "cell_type": "code",
   "execution_count": 40,
   "metadata": {},
   "outputs": [
    {
     "data": {
      "text/plain": [
       "(0.4, 0.4, 0.4, 1.0)"
      ]
     },
     "execution_count": 40,
     "metadata": {},
     "output_type": "execute_result"
    }
   ],
   "source": [
    "cmap(1.1)"
   ]
  },
  {
   "cell_type": "code",
   "execution_count": null,
   "metadata": {},
   "outputs": [],
   "source": []
  },
  {
   "cell_type": "code",
   "execution_count": null,
   "metadata": {},
   "outputs": [],
   "source": [
    "# How many time steps in each buoy record?\n",
    "N = obs['u'].shape[0]\n",
    "my_count = np.arange(N)\n",
    "for i in range(N):\n",
    "    my_count[i] = np.sum(~np.isnan(obs['u'][i,:]),color=\n",
    "print(my_count)"
   ]
  },
  {
   "cell_type": "code",
   "execution_count": null,
   "metadata": {},
   "outputs": [],
   "source": [
    "plt.plot(mae.T)\n",
    "plt.ylabel('Mean Absolute Error of U [m/s]')\n",
    "plt.xlabel('Forecast Hour')"
   ]
  },
  {
   "cell_type": "code",
   "execution_count": null,
   "metadata": {},
   "outputs": [],
   "source": []
  },
  {
   "cell_type": "code",
   "execution_count": null,
   "metadata": {},
   "outputs": [],
   "source": [
    "# Linear Regression, varying history length\n",
    "\n",
    "loc = 1\n",
    "hr_forward = 3\n",
    "\n",
    "for hr_back in np.arange(1,4):\n",
    "    # Prep data\n",
    "    (tn,HU,HV,fu_o,fv_o,fu_p,fv_p,ou,ov,pu,pv) = prep_data(obs,pred,loc,hr_back,hr_forward)\n",
    "    \n",
    "    # Train/test\n",
    "    x_tr, x_te, y_tr, y_te = train_test_split(HU, fu_o, test_size = 0.25, random_state = 42)\n",
    "    \n",
    "    # Creating an object of LinearRegression class\n",
    "    LR = LinearRegression()\n",
    "    \n",
    "    # fitting the training data\n",
    "    LR.fit(x_tr,y_tr)\n",
    "    \n",
    "    # Make predictions\n",
    "    y_p = np.squeeze(LR.predict(x_te))\n",
    "    y = np.squeeze(y_te)\n",
    "\n",
    "    # Evaluate error\n",
    "    r2 = r2_score(y.T,y_p)\n",
    "    mae = np.mean(np.abs(y.T-y_p))\n",
    "    print([hr_back,r2,mae])\n"
   ]
  },
  {
   "cell_type": "code",
   "execution_count": null,
   "metadata": {},
   "outputs": [],
   "source": [
    "mae = np.mean(np.abs(pu-ou))\n",
    "print(mae)"
   ]
  },
  {
   "cell_type": "code",
   "execution_count": null,
   "metadata": {},
   "outputs": [],
   "source": [
    "# Linear regression for residual\n",
    "\n"
   ]
  },
  {
   "cell_type": "code",
   "execution_count": null,
   "metadata": {},
   "outputs": [],
   "source": [
    "# Generate prior wind speeds, up to X hours back in time using np.roll() like circshift\n",
    "hr_back = 6\n",
    "hr_forward = 1\n",
    "trim = np.max([hr_back,hr_forward])\n",
    "\n",
    "HU = pd.DataFrame()\n",
    "HV = pd.DataFrame()\n",
    "tn = np.array(t.copy())\n",
    "\n",
    "for ii in range(hr_back):\n",
    "    col = str(ii)\n",
    "    HU[col] = np.roll(ou,ii)\n",
    "    HV[col] = np.roll(ov,ii)\n",
    "\n",
    "# Create future time step to predict\n",
    "fu = np.roll(ou,-hr_forward)\n",
    "fv = np.roll(ov,-hr_forward)\n",
    "\n",
    "# Create prediction vector for use later\n",
    "fu_p = np.roll(pu,-hr_forward)\n",
    "fv_p = np.roll(pv,-hr_forward)\n",
    "    \n",
    "# Trim ends\n",
    "HU = HU[trim:-trim]\n",
    "HV = HV[trim:-trim]\n",
    "fu = fu[trim:-trim]\n",
    "fv = fv[trim:-trim]\n",
    "tn = tn[trim:-trim]\n",
    "ov = ov[trim:-trim]\n",
    "ou = ou[trim:-trim]\n",
    "fu_p = fu_p[trim:-trim]\n",
    "fv_p = fv_p[trim:-trim]\n",
    "\n",
    "# Nan out times with any NaNs\n",
    "msk1 = HU.isnull()\n",
    "msk1 = msk1.any(axis=1)\n",
    "msk2 = np.isnan(fu)\n",
    "msk = msk1 | msk2\n",
    "HU[msk] = np.nan\n",
    "HV[msk] = np.nan\n",
    "fu[msk] = np.nan\n",
    "fv[msk] = np.nan\n",
    "\n",
    "# Remove NaN values\n",
    "fu = fu[~np.isnan(fu)]\n",
    "fv = fv[~np.isnan(fv)]\n",
    "HU = HU.dropna()\n",
    "HV = HV.dropna()\n",
    "tn = tn[~msk]\n",
    "ou = ou[~msk]\n",
    "ov = ov[~msk]\n",
    "fu_p = fu_p[~msk]\n",
    "fv_p = fv_p[~msk]\n",
    "\n",
    "# Make yearly mean variable\n",
    "# day of year\n",
    "doy = np.array([ti.timetuple().tm_yday for ti in tn])-1\n",
    "uavg = np.zeros(366)\n",
    "vavg = np.zeros(366)\n",
    "for dd in range(366):\n",
    "    msk = (doy == dd)\n",
    "    uavg[dd] = np.nanmean(ou[msk])\n",
    "    vavg[dd] = np.nanmean(ov[msk])\n",
    "    \n",
    "# Smooth this daily average wind vector\n",
    "# In future should wrap this before smoothing!\n",
    "\n",
    "from scipy import signal\n",
    "uavgs = signal.savgol_filter(uavg, 25*3, 2)\n",
    "vavgs = signal.savgol_filter(vavg, 25*3, 2)\n",
    "\n",
    "fig, (ax1, ax2) = plt.subplots(1,2,figsize=(10,5))\n",
    "\n",
    "ax1.plot(uavg,label='Daily Avg')\n",
    "ax1.plot(uavgs,label='Smoothed')\n",
    "plt.ylabel('U [m/s]')\n",
    "ax1.legend()\n",
    "plt.xlabel('Day of Year')\n",
    "\n",
    "ax2.plot(vavg,label='Daily Avg')\n",
    "ax2.plot(vavgs,label='Smoothed')\n",
    "plt.ylabel('V [m/s]')\n",
    "ax2.legend()\n",
    "plt.xlabel('Day of Year')\n",
    "\n",
    "# Append avg to time series\n",
    "uavg_t = uavgs[doy]\n",
    "uavg_t = np.expand_dims(uavg_t,1)\n",
    "vavg_t = vavgs[doy]\n",
    "vavg_t = np.expand_dims(vavg_t,1)\n",
    "HU = np.concatenate((HU,uavg_t),axis=1)\n",
    "HV = np.concatenate((HU,uavg_t),axis=1)"
   ]
  },
  {
   "cell_type": "code",
   "execution_count": null,
   "metadata": {},
   "outputs": [],
   "source": [
    "# train test sets\n",
    "x_tr, x_te, y_tr, y_te = train_test_split(HU, fu, test_size = 0.25, random_state = 42)"
   ]
  },
  {
   "cell_type": "code",
   "execution_count": null,
   "metadata": {},
   "outputs": [],
   "source": [
    "# creating an object of LinearRegression class\n",
    "LR = LinearRegression()\n",
    "# fitting the training data\n",
    "LR.fit(x_tr,y_tr)\n",
    "# Make predictions\n",
    "y_p = np.squeeze(LR.predict(x_te))\n",
    "y = np.squeeze(y_te)\n",
    "\n",
    "r2 = r2_score(y.T,y_p)\n",
    "mae = np.mean(np.abs(y.T-y_p))\n",
    "print([r2,mae])\n",
    "print(LR.coef_)"
   ]
  },
  {
   "cell_type": "code",
   "execution_count": null,
   "metadata": {},
   "outputs": [],
   "source": [
    "from sklearn.ensemble import RandomForestRegressor\n",
    "import time\n",
    "\n",
    "start = time.time()\n",
    "rf = RandomForestRegressor(n_estimators=100, random_state= 40)\n",
    "rf.fit(x_tr,y_tr)\n",
    "end = time.time()\n",
    "print('Finished in {:4.2f} seconds'.format(end - start))\n"
   ]
  },
  {
   "cell_type": "code",
   "execution_count": null,
   "metadata": {},
   "outputs": [],
   "source": [
    "y_p = rf.predict(x_te)\n",
    "r2 = r2_score(y.T,y_p)\n",
    "mae = np.mean(np.abs(y_p-y_te))\n",
    "print([r2,mae])"
   ]
  },
  {
   "cell_type": "markdown",
   "metadata": {},
   "source": [
    "### Try adding prediction forecast to regression\n",
    "\n"
   ]
  },
  {
   "cell_type": "code",
   "execution_count": null,
   "metadata": {},
   "outputs": [],
   "source": [
    "HUa = np.concatenate((HU,np.expand_dims(fu_p,1)),axis=1)\n",
    "x_tr, x_te, y_tr, y_te = train_test_split(HUa, fu, test_size = 0.25, random_state = 42)\n",
    "# creating an object of LinearRegression class\n",
    "LR = LinearRegression()\n",
    "# fitting the training data\n",
    "LR.fit(x_tr,y_tr)\n",
    "# Make predictions\n",
    "y_p = np.squeeze(LR.predict(x_te))\n",
    "y = np.squeeze(y_te)\n",
    "\n",
    "r2 = r2_score(y.T,y_p)\n",
    "mae = np.mean(np.abs(y.T-y_p))\n",
    "print([r2,mae])\n",
    "print(LR.coef_)"
   ]
  },
  {
   "cell_type": "markdown",
   "metadata": {},
   "source": [
    "Basically the same skill as with the prediction alone."
   ]
  },
  {
   "cell_type": "code",
   "execution_count": null,
   "metadata": {},
   "outputs": [],
   "source": []
  },
  {
   "cell_type": "code",
   "execution_count": null,
   "metadata": {},
   "outputs": [],
   "source": []
  }
 ],
 "metadata": {
  "kernelspec": {
   "display_name": "Python 3",
   "language": "python",
   "name": "python3"
  },
  "language_info": {
   "codemirror_mode": {
    "name": "ipython",
    "version": 3
   },
   "file_extension": ".py",
   "mimetype": "text/x-python",
   "name": "python",
   "nbconvert_exporter": "python",
   "pygments_lexer": "ipython3",
   "version": "3.8.3"
  }
 },
 "nbformat": 4,
 "nbformat_minor": 4
}
